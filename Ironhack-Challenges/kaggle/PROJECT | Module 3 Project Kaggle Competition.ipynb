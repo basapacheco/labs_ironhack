{
 "cells": [
  {
   "cell_type": "markdown",
   "metadata": {},
   "source": [
    "# KATA - Saturday\n",
    "---"
   ]
  },
  {
   "cell_type": "markdown",
   "metadata": {},
   "source": [
    "### Kata 1"
   ]
  },
  {
   "cell_type": "markdown",
   "metadata": {},
   "source": [
    "link: https://www.codewars.com/kata/5700af83d1acef83fd000048/train/python"
   ]
  },
  {
   "cell_type": "code",
   "execution_count": 1,
   "metadata": {},
   "outputs": [],
   "source": [
    "import numpy as np\n",
    "from scipy.signal import convolve2d\n",
    "def infect_apple(apple, n):\n",
    "    arr = np.array([[b == 'V' for b in a] for a in apple], np.int)\n",
    "    for a in range(n):\n",
    "        arr = convolve2d(arr, [[0,1,0], [1,1,1], [0,1,0]], 'same')\n",
    "    return [['AV'[b > 0] for b in a] for a in arr]"
   ]
  },
  {
   "cell_type": "code",
   "execution_count": 8,
   "metadata": {},
   "outputs": [
    {
     "name": "stderr",
     "output_type": "stream",
     "text": [
      "<ipython-input-1-396028882fcd>:7: DeprecationWarning: In future, it will be an error for 'np.bool_' scalars to be interpreted as an index\n",
      "  return [['AV'[b > 0] for b in a] for a in arr]\n"
     ]
    },
    {
     "data": {
      "text/plain": [
       "\"\\nShould return:\\n\\n[['V', 'A', 'A', 'A', 'A'],\\n ['V', 'V', 'A', 'A', 'A'],\\n ['V', 'A', 'A', 'A', 'A'],\\n ['A', 'A', 'A', 'A', 'A'],\\n ['A', 'A', 'A', 'A', 'A']]\\n \\n\""
      ]
     },
     "execution_count": 8,
     "metadata": {},
     "output_type": "execute_result"
    }
   ],
   "source": [
    "apple=[[\"A\",\"A\",\"A\",\"A\",\"A\"],\n",
    "       [\"V\",\"A\",\"A\",\"A\",\"A\"],\n",
    "       [\"A\",\"A\",\"A\",\"A\",\"A\"],\n",
    "       [\"A\",\"A\",\"A\",\"A\",\"A\"],\n",
    "       [\"A\",\"A\",\"A\",\"A\",\"A\"]]\n",
    "\n",
    "infect_apple(apple, 1)\n",
    "\n",
    "\"\"\"\n",
    "Should return:\n",
    "\n",
    "[['V', 'A', 'A', 'A', 'A'],\n",
    " ['V', 'V', 'A', 'A', 'A'],\n",
    " ['V', 'A', 'A', 'A', 'A'],\n",
    " ['A', 'A', 'A', 'A', 'A'],\n",
    " ['A', 'A', 'A', 'A', 'A']]\n",
    " \n",
    "\"\"\""
   ]
  },
  {
   "cell_type": "markdown",
   "metadata": {},
   "source": [
    "### Kata 2"
   ]
  },
  {
   "cell_type": "markdown",
   "metadata": {},
   "source": [
    "#### Playing with classes! \n",
    "Add your juicy functions to this Apple class. \n",
    "\n",
    "The class has already been created for you. It has an infect method you can use to infect your apple randomly.\n",
    "\n",
    "Goal: Add your infect_apple() function to the Apple class so it behaves like any other method. Remember to add \"self\" whenever it is needed."
   ]
  },
  {
   "cell_type": "code",
   "execution_count": 3,
   "metadata": {},
   "outputs": [],
   "source": [
    "import random\n",
    "\n",
    "class Apple(object):\n",
    "    \n",
    "    def infect_apple(self, n=1):\n",
    "        arr = np.array([[b == 'V' for b in a] for a in self.apple], np.int)\n",
    "        for a in range(n):\n",
    "            arr = convolve2d(arr, [[0,1,0], [1,1,1], [0,1,0]], 'same')\n",
    "        return [['.V'[b > 0] for b in a] for a in arr]\n",
    "\n",
    "\n",
    "    \n",
    "    def __init__(self, d=5, cell=\"·\"):\n",
    "        \"\"\"\n",
    "        Create an apple object.\n",
    "        \n",
    "        Parameters:\n",
    "            d: Integer. Apple's dimension.\n",
    "            cell = String. Individual cell graphic representation. \n",
    "            \n",
    "        Attributes:\n",
    "            rows, cols and apple set the apple's dimension. \n",
    "            For example, if d is set to 3 and cell's argument is \"·\", \n",
    "            your apple will look like this:\n",
    "            [['·', '·', '·'], \n",
    "             ['·', '·', '·'], \n",
    "             ['·', '·', '·']]\n",
    "        \"\"\"\n",
    "        \n",
    "        self.rows = d\n",
    "        self.cols = d\n",
    "        self.cell = cell\n",
    "        self.apple = [[cell]*d for x in range(d)]\n",
    "    \n",
    "    def infect(self, amount=1):\n",
    "        \"\"\"\n",
    "        Infect the apple randomnly.\n",
    "        \n",
    "        Parameters:\n",
    "        amount: Integer. Number of viruses to be added randomnly.\n",
    "        \n",
    "        Returns:\n",
    "        None. Infects the apple. \n",
    "        \"\"\"\n",
    "        \n",
    "        for a in range(amount):\n",
    "            # New virus.\n",
    "            virus = [random.randint(0,self.rows-1), random.randint(0,self.cols-1)]\n",
    "            \n",
    "            # Infect apple.\n",
    "            self.apple[virus[0]][virus[1]] = \"V\"\n",
    "            \n",
    "        def infect_apple(self, n=1):\n",
    "            arr = np.array([[b == 'V' for b in a] for a in self.apple], np.int)\n",
    "            for a in range(n):\n",
    "                arr = convolve2d(arr, [[0,1,0], [1,1,1], [0,1,0]], 'same')\n",
    "                return [['·V'[b > 0] for b in a] for a in arr]\n"
   ]
  },
  {
   "cell_type": "code",
   "execution_count": 4,
   "metadata": {},
   "outputs": [],
   "source": [
    "my_apple = Apple()"
   ]
  },
  {
   "cell_type": "code",
   "execution_count": 5,
   "metadata": {},
   "outputs": [
    {
     "data": {
      "text/plain": [
       "[['·', '·', '·', '·', '·'],\n",
       " ['·', '·', '·', '·', '·'],\n",
       " ['·', '·', '·', '·', '·'],\n",
       " ['·', '·', '·', '·', '·'],\n",
       " ['·', '·', '·', '·', '·']]"
      ]
     },
     "execution_count": 5,
     "metadata": {},
     "output_type": "execute_result"
    }
   ],
   "source": [
    "my_apple.apple"
   ]
  },
  {
   "cell_type": "code",
   "execution_count": 6,
   "metadata": {},
   "outputs": [],
   "source": [
    "my_apple.infect(1)"
   ]
  },
  {
   "cell_type": "code",
   "execution_count": 7,
   "metadata": {},
   "outputs": [
    {
     "data": {
      "text/plain": [
       "[['·', '·', '·', '·', '·'],\n",
       " ['·', '·', '·', '·', '·'],\n",
       " ['·', '·', '·', '·', '·'],\n",
       " ['·', '·', '·', '·', '·'],\n",
       " ['·', '·', 'V', '·', '·']]"
      ]
     },
     "execution_count": 7,
     "metadata": {},
     "output_type": "execute_result"
    }
   ],
   "source": [
    "my_apple.apple"
   ]
  },
  {
   "cell_type": "code",
   "execution_count": null,
   "metadata": {},
   "outputs": [],
   "source": []
  },
  {
   "cell_type": "code",
   "execution_count": null,
   "metadata": {},
   "outputs": [],
   "source": []
  }
 ],
 "metadata": {
  "kernelspec": {
   "display_name": "Python 3",
   "language": "python",
   "name": "python3"
  },
  "language_info": {
   "codemirror_mode": {
    "name": "ipython",
    "version": 3
   },
   "file_extension": ".py",
   "mimetype": "text/x-python",
   "name": "python",
   "nbconvert_exporter": "python",
   "pygments_lexer": "ipython3",
   "version": "3.8.3"
  }
 },
 "nbformat": 4,
 "nbformat_minor": 4
}
