{
 "cells": [
  {
   "cell_type": "code",
   "execution_count": 1,
   "metadata": {},
   "outputs": [],
   "source": [
    "class User(object):\n",
    "    def __init__(self, name, balance, checking_account):\n",
    "        self.name = name\n",
    "        self.balance = balance\n",
    "        self.checking_account = checking_account\n",
    "    \n",
    "    def withdraw(self, v):\n",
    "        if v > self.balance: raise ValueError()\n",
    "        self.balance -= v\n",
    "        return \"{} has {}.\".format(self.name, int(self.balance))\n",
    "    \n",
    "    def add_cash(self, v):\n",
    "        self.balance += v\n",
    "        return \"{} has {}.\".format(self.name, int(self.balance))\n",
    "    \n",
    "    def check(self, other, v):\n",
    "        if not other.checking_account: raise ValueError()\n",
    "        s1,s2 = other.withdraw(v), self.add_cash(v)[:-1]\n",
    "        return \"{} and {}\".format(s2,s1)\n",
    "    \n",
    "    def __str__(self): return \"User({}, {}, {})\".format(self.name, self.balance, self.checking_account)\n",
    "    "
   ]
  },
  {
   "cell_type": "code",
   "execution_count": null,
   "metadata": {},
   "outputs": [],
   "source": []
  }
 ],
 "metadata": {
  "kernelspec": {
   "display_name": "Python 3",
   "language": "python",
   "name": "python3"
  },
  "language_info": {
   "codemirror_mode": {
    "name": "ipython",
    "version": 3
   },
   "file_extension": ".py",
   "mimetype": "text/x-python",
   "name": "python",
   "nbconvert_exporter": "python",
   "pygments_lexer": "ipython3",
   "version": "3.8.3"
  }
 },
 "nbformat": 4,
 "nbformat_minor": 4
}
